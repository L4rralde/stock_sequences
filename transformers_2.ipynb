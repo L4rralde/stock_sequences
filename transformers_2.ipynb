{
 "cells": [
  {
   "cell_type": "code",
   "execution_count": 1,
   "id": "1995fdad-7739-48f4-8fe0-c1de13ffe108",
   "metadata": {},
   "outputs": [],
   "source": [
    "from src.dataset import StockDataset"
   ]
  },
  {
   "cell_type": "code",
   "execution_count": 2,
   "id": "1060e654-4dfe-4e6f-ae36-c9702eb46f50",
   "metadata": {},
   "outputs": [],
   "source": [
    "dataset = StockDataset.sequential_ds()\n",
    "dataset = StockDataset.item_ds()"
   ]
  },
  {
   "cell_type": "code",
   "execution_count": 3,
   "id": "1cab4b46-99c9-475c-b56f-74108d16ddba",
   "metadata": {},
   "outputs": [],
   "source": [
    "from torch.utils.data import DataLoader, random_split\n",
    "\n",
    "train_size = int(0.8 * len(dataset))\n",
    "val_size = int(0.1 * len(dataset))\n",
    "test_size = len(dataset) - train_size - val_size\n",
    "\n",
    "train_dataset, val_dataset, test_dataset = random_split(\n",
    "    dataset,\n",
    "    [train_size, val_size, test_size]\n",
    ")\n",
    "\n",
    "train_dataloader = DataLoader(train_dataset, batch_size=8, shuffle=True)\n",
    "val_dataloader = DataLoader(val_dataset, batch_size=8)\n",
    "test_dataloader = DataLoader(test_dataset, batch_size=8)"
   ]
  },
  {
   "cell_type": "code",
   "execution_count": 4,
   "id": "7d8945bf-3913-48a7-b8f6-e825b703fe06",
   "metadata": {},
   "outputs": [],
   "source": [
    "import torch\n",
    "import torch.nn as nn\n",
    "\n",
    "from src.models import MyTransformerEncoderLayer, PositionalEncoding\n",
    "\n",
    "\n",
    "if torch.cuda.is_available():\n",
    "    device = \"cuda\"\n",
    "elif torch.backends.mps.is_available():\n",
    "    device = \"mps\"\n",
    "else:\n",
    "    device = \"cpu\"\n",
    "\n",
    "\n",
    "class MyTransformerEncoderRegressor(nn.Module):\n",
    "    def __init__(self, d_model: int, nhead: int, dim_feedforward: int, max_len: int=100) -> None:\n",
    "        super().__init__()\n",
    "        self.positional_encoding =  PositionalEncoding(d_model, max_len)\n",
    "        self.transformer_encoder = MyTransformerEncoderLayer(d_model, nhead, dim_feedforward)\n",
    "        self.regression_head = nn.Sequential(\n",
    "            nn.Linear(d_model, 128),\n",
    "            nn.ReLU(),\n",
    "            nn.Dropout(0.4),\n",
    "            nn.Linear(128, d_model),\n",
    "        )\n",
    "\n",
    "    def forward(self, x: torch.Tensor) -> torch.Tensor:\n",
    "        x = self.positional_encoding(x)\n",
    "        x = self.transformer_encoder(x)\n",
    "        x = x[:, -1, :]\n",
    "        x = self.regression_head(x)\n",
    "        return x\n",
    "\n",
    "model = MyTransformerEncoderRegressor(9, 3, 128, 100)\n",
    "model = model.to(device)"
   ]
  },
  {
   "cell_type": "code",
   "execution_count": 5,
   "id": "7d7cd3d0-8a10-4d0d-b93d-c557184dcdb7",
   "metadata": {},
   "outputs": [],
   "source": [
    "from src.train import train"
   ]
  },
  {
   "cell_type": "code",
   "execution_count": 6,
   "id": "3ce2d82b-2aa9-42ea-a1d1-f04376c1121c",
   "metadata": {},
   "outputs": [
    {
     "name": "stderr",
     "output_type": "stream",
     "text": [
      " 10%|██                  | 1/10 [00:08<01:19,  8.87s/it]"
     ]
    },
    {
     "name": "stdout",
     "output_type": "stream",
     "text": [
      "Epoch: 1. Training loss: 1.213e+00; Validation loss: 4.299e+00\n",
      "Saving model at: /Users/l4rralde/Desktop/CIMAT/Semestres/Segundo/DeepLearning/Tareas/Tarea5/models/MyTransformerEncoderRegressor_4.298764367679973\n"
     ]
    },
    {
     "name": "stderr",
     "output_type": "stream",
     "text": [
      " 20%|████                | 2/10 [00:16<01:06,  8.28s/it]"
     ]
    },
    {
     "name": "stdout",
     "output_type": "stream",
     "text": [
      "Epoch: 2. Training loss: 4.205e-01; Validation loss: 2.630e+00\n",
      "Saving model at: /Users/l4rralde/Desktop/CIMAT/Semestres/Segundo/DeepLearning/Tareas/Tarea5/models/MyTransformerEncoderRegressor_2.6302962458723194\n"
     ]
    },
    {
     "name": "stderr",
     "output_type": "stream",
     "text": [
      " 30%|██████              | 3/10 [00:24<00:56,  8.08s/it]"
     ]
    },
    {
     "name": "stdout",
     "output_type": "stream",
     "text": [
      "Epoch: 3. Training loss: 2.875e-01; Validation loss: 3.155e+00\n"
     ]
    },
    {
     "name": "stderr",
     "output_type": "stream",
     "text": [
      " 40%|████████            | 4/10 [00:32<00:48,  8.13s/it]"
     ]
    },
    {
     "name": "stdout",
     "output_type": "stream",
     "text": [
      "Epoch: 4. Training loss: 2.426e-01; Validation loss: 1.530e+00\n",
      "Saving model at: /Users/l4rralde/Desktop/CIMAT/Semestres/Segundo/DeepLearning/Tareas/Tarea5/models/MyTransformerEncoderRegressor_1.5302733302443892\n"
     ]
    },
    {
     "name": "stderr",
     "output_type": "stream",
     "text": [
      " 50%|██████████          | 5/10 [00:41<00:40,  8.18s/it]"
     ]
    },
    {
     "name": "stdout",
     "output_type": "stream",
     "text": [
      "Epoch: 5. Training loss: 2.125e-01; Validation loss: 1.647e+00\n"
     ]
    },
    {
     "name": "stderr",
     "output_type": "stream",
     "text": [
      " 60%|████████████        | 6/10 [00:49<00:32,  8.11s/it]"
     ]
    },
    {
     "name": "stdout",
     "output_type": "stream",
     "text": [
      "Epoch: 6. Training loss: 1.946e-01; Validation loss: 1.716e+00\n"
     ]
    },
    {
     "name": "stderr",
     "output_type": "stream",
     "text": [
      " 70%|██████████████      | 7/10 [00:56<00:24,  8.04s/it]"
     ]
    },
    {
     "name": "stdout",
     "output_type": "stream",
     "text": [
      "Epoch: 7. Training loss: 1.907e-01; Validation loss: 2.186e+00\n"
     ]
    },
    {
     "name": "stderr",
     "output_type": "stream",
     "text": [
      " 80%|████████████████    | 8/10 [01:05<00:16,  8.20s/it]"
     ]
    },
    {
     "name": "stdout",
     "output_type": "stream",
     "text": [
      "Epoch: 8. Training loss: 1.786e-01; Validation loss: 1.456e+00\n",
      "Saving model at: /Users/l4rralde/Desktop/CIMAT/Semestres/Segundo/DeepLearning/Tareas/Tarea5/models/MyTransformerEncoderRegressor_1.456327770110015\n"
     ]
    },
    {
     "name": "stderr",
     "output_type": "stream",
     "text": [
      " 90%|██████████████████  | 9/10 [01:13<00:08,  8.09s/it]"
     ]
    },
    {
     "name": "stdout",
     "output_type": "stream",
     "text": [
      "Epoch: 9. Training loss: 1.664e-01; Validation loss: 1.143e+00\n",
      "Saving model at: /Users/l4rralde/Desktop/CIMAT/Semestres/Segundo/DeepLearning/Tareas/Tarea5/models/MyTransformerEncoderRegressor_1.1426145327942712\n"
     ]
    },
    {
     "name": "stderr",
     "output_type": "stream",
     "text": [
      "100%|███████████████████| 10/10 [01:21<00:00,  8.12s/it]"
     ]
    },
    {
     "name": "stdout",
     "output_type": "stream",
     "text": [
      "Epoch: 10. Training loss: 1.608e-01; Validation loss: 2.363e+00\n"
     ]
    },
    {
     "name": "stderr",
     "output_type": "stream",
     "text": [
      "\n"
     ]
    }
   ],
   "source": [
    "hist = train(model, 10, device, train_dataloader, val_dataloader)"
   ]
  },
  {
   "cell_type": "code",
   "execution_count": null,
   "id": "b04074c5-a235-4817-b226-b8de3f1c1e57",
   "metadata": {},
   "outputs": [],
   "source": []
  }
 ],
 "metadata": {
  "kernelspec": {
   "display_name": "Python 3 (ipykernel)",
   "language": "python",
   "name": "python3"
  },
  "language_info": {
   "codemirror_mode": {
    "name": "ipython",
    "version": 3
   },
   "file_extension": ".py",
   "mimetype": "text/x-python",
   "name": "python",
   "nbconvert_exporter": "python",
   "pygments_lexer": "ipython3",
   "version": "3.12.7"
  }
 },
 "nbformat": 4,
 "nbformat_minor": 5
}
